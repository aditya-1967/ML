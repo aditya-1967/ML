{
 "cells": [
  {
   "cell_type": "code",
   "execution_count": 1,
   "id": "8b82e75d",
   "metadata": {
    "_cell_guid": "b1076dfc-b9ad-4769-8c92-a6c4dae69d19",
    "_uuid": "8f2839f25d086af736a60e9eeb907d3b93b6e0e5",
    "execution": {
     "iopub.execute_input": "2022-08-09T10:15:53.252466Z",
     "iopub.status.busy": "2022-08-09T10:15:53.251982Z",
     "iopub.status.idle": "2022-08-09T10:15:53.271616Z",
     "shell.execute_reply": "2022-08-09T10:15:53.270213Z"
    },
    "papermill": {
     "duration": 0.030627,
     "end_time": "2022-08-09T10:15:53.274611",
     "exception": false,
     "start_time": "2022-08-09T10:15:53.243984",
     "status": "completed"
    },
    "tags": []
   },
   "outputs": [
    {
     "name": "stdout",
     "output_type": "stream",
     "text": [
      "/kaggle/input/student-study-hours/score.csv\n"
     ]
    }
   ],
   "source": [
    "# This Python 3 environment comes with many helpful analytics libraries installed\n",
    "# It is defined by the kaggle/python Docker image: https://github.com/kaggle/docker-python\n",
    "# For example, here's several helpful packages to load\n",
    "\n",
    "import numpy as np # linear algebra\n",
    "import pandas as pd # data processing, CSV file I/O (e.g. pd.read_csv)\n",
    "\n",
    "# Input data files are available in the read-only \"../input/\" directory\n",
    "# For example, running this (by clicking run or pressing Shift+Enter) will list all files under the input directory\n",
    "\n",
    "import os\n",
    "for dirname, _, filenames in os.walk('/kaggle/input'):\n",
    "    for filename in filenames:\n",
    "        print(os.path.join(dirname, filename))\n",
    "\n",
    "# You can write up to 20GB to the current directory (/kaggle/working/) that gets preserved as output when you create a version using \"Save & Run All\" \n",
    "# You can also write temporary files to /kaggle/temp/, but they won't be saved outside of the current session"
   ]
  },
  {
   "cell_type": "code",
   "execution_count": 2,
   "id": "45e1283a",
   "metadata": {
    "execution": {
     "iopub.execute_input": "2022-08-09T10:15:53.286826Z",
     "iopub.status.busy": "2022-08-09T10:15:53.286404Z",
     "iopub.status.idle": "2022-08-09T10:15:53.300272Z",
     "shell.execute_reply": "2022-08-09T10:15:53.299292Z"
    },
    "papermill": {
     "duration": 0.022911,
     "end_time": "2022-08-09T10:15:53.302778",
     "exception": false,
     "start_time": "2022-08-09T10:15:53.279867",
     "status": "completed"
    },
    "tags": []
   },
   "outputs": [],
   "source": [
    "raw_df = pd.read_csv('/kaggle/input/student-study-hours/score.csv')"
   ]
  },
  {
   "cell_type": "code",
   "execution_count": 3,
   "id": "c2635ad8",
   "metadata": {
    "execution": {
     "iopub.execute_input": "2022-08-09T10:15:53.315002Z",
     "iopub.status.busy": "2022-08-09T10:15:53.314556Z",
     "iopub.status.idle": "2022-08-09T10:15:53.337763Z",
     "shell.execute_reply": "2022-08-09T10:15:53.336525Z"
    },
    "papermill": {
     "duration": 0.03247,
     "end_time": "2022-08-09T10:15:53.340193",
     "exception": false,
     "start_time": "2022-08-09T10:15:53.307723",
     "status": "completed"
    },
    "tags": []
   },
   "outputs": [
    {
     "data": {
      "text/html": [
       "<div>\n",
       "<style scoped>\n",
       "    .dataframe tbody tr th:only-of-type {\n",
       "        vertical-align: middle;\n",
       "    }\n",
       "\n",
       "    .dataframe tbody tr th {\n",
       "        vertical-align: top;\n",
       "    }\n",
       "\n",
       "    .dataframe thead th {\n",
       "        text-align: right;\n",
       "    }\n",
       "</style>\n",
       "<table border=\"1\" class=\"dataframe\">\n",
       "  <thead>\n",
       "    <tr style=\"text-align: right;\">\n",
       "      <th></th>\n",
       "      <th>Hours</th>\n",
       "      <th>Scores</th>\n",
       "    </tr>\n",
       "  </thead>\n",
       "  <tbody>\n",
       "    <tr>\n",
       "      <th>0</th>\n",
       "      <td>2.5</td>\n",
       "      <td>21</td>\n",
       "    </tr>\n",
       "    <tr>\n",
       "      <th>1</th>\n",
       "      <td>5.1</td>\n",
       "      <td>47</td>\n",
       "    </tr>\n",
       "    <tr>\n",
       "      <th>2</th>\n",
       "      <td>3.2</td>\n",
       "      <td>27</td>\n",
       "    </tr>\n",
       "    <tr>\n",
       "      <th>3</th>\n",
       "      <td>8.5</td>\n",
       "      <td>75</td>\n",
       "    </tr>\n",
       "    <tr>\n",
       "      <th>4</th>\n",
       "      <td>3.5</td>\n",
       "      <td>30</td>\n",
       "    </tr>\n",
       "  </tbody>\n",
       "</table>\n",
       "</div>"
      ],
      "text/plain": [
       "   Hours  Scores\n",
       "0    2.5      21\n",
       "1    5.1      47\n",
       "2    3.2      27\n",
       "3    8.5      75\n",
       "4    3.5      30"
      ]
     },
     "execution_count": 3,
     "metadata": {},
     "output_type": "execute_result"
    }
   ],
   "source": [
    "raw_df.head()"
   ]
  },
  {
   "cell_type": "code",
   "execution_count": 4,
   "id": "ed358642",
   "metadata": {
    "execution": {
     "iopub.execute_input": "2022-08-09T10:15:53.352601Z",
     "iopub.status.busy": "2022-08-09T10:15:53.351902Z",
     "iopub.status.idle": "2022-08-09T10:15:54.580179Z",
     "shell.execute_reply": "2022-08-09T10:15:54.578726Z"
    },
    "papermill": {
     "duration": 1.237604,
     "end_time": "2022-08-09T10:15:54.582972",
     "exception": false,
     "start_time": "2022-08-09T10:15:53.345368",
     "status": "completed"
    },
    "tags": []
   },
   "outputs": [],
   "source": [
    "import seaborn as sns"
   ]
  },
  {
   "cell_type": "code",
   "execution_count": 5,
   "id": "09e8a98a",
   "metadata": {
    "execution": {
     "iopub.execute_input": "2022-08-09T10:15:54.595201Z",
     "iopub.status.busy": "2022-08-09T10:15:54.594747Z",
     "iopub.status.idle": "2022-08-09T10:15:54.872106Z",
     "shell.execute_reply": "2022-08-09T10:15:54.870137Z"
    },
    "papermill": {
     "duration": 0.287888,
     "end_time": "2022-08-09T10:15:54.876125",
     "exception": false,
     "start_time": "2022-08-09T10:15:54.588237",
     "status": "completed"
    },
    "tags": []
   },
   "outputs": [
    {
     "data": {
      "text/plain": [
       "<AxesSubplot:xlabel='Hours', ylabel='Scores'>"
      ]
     },
     "execution_count": 5,
     "metadata": {},
     "output_type": "execute_result"
    },
    {
     "data": {
      "image/png": "[encoded data removed]",
      "text/plain": [
       "<Figure size 432x288 with 1 Axes>"
      ]
     },
     "metadata": {
      "needs_background": "light"
     },
     "output_type": "display_data"
    }
   ],
   "source": [
    "sns.scatterplot(x = raw_df['Hours'], y = raw_df['Scores'])"
   ]
  },
  {
   "cell_type": "code",
   "execution_count": 6,
   "id": "5ea2fd53",
   "metadata": {
    "execution": {
     "iopub.execute_input": "2022-08-09T10:15:54.889449Z",
     "iopub.status.busy": "2022-08-09T10:15:54.888996Z",
     "iopub.status.idle": "2022-08-09T10:15:55.191043Z",
     "shell.execute_reply": "2022-08-09T10:15:55.189940Z"
    },
    "papermill": {
     "duration": 0.31195,
     "end_time": "2022-08-09T10:15:55.193841",
     "exception": false,
     "start_time": "2022-08-09T10:15:54.881891",
     "status": "completed"
    },
    "tags": []
   },
   "outputs": [
    {
     "data": {
      "text/plain": [
       "<AxesSubplot:xlabel='Hours', ylabel='Scores'>"
      ]
     },
     "execution_count": 6,
     "metadata": {},
     "output_type": "execute_result"
    },
    {
     "data": {
      "image/png": "[encoded data removed]",
      "text/plain": [
       "<Figure size 432x288 with 1 Axes>"
      ]
     },
     "metadata": {
      "needs_background": "light"
     },
     "output_type": "display_data"
    }
   ],
   "source": [
    "sns.lineplot(x = raw_df['Hours'], y = raw_df['Scores'])"
   ]
  },
  {
   "cell_type": "code",
   "execution_count": 7,
   "id": "b44d7e38",
   "metadata": {
    "execution": {
     "iopub.execute_input": "2022-08-09T10:15:55.207567Z",
     "iopub.status.busy": "2022-08-09T10:15:55.207126Z",
     "iopub.status.idle": "2022-08-09T10:15:55.216810Z",
     "shell.execute_reply": "2022-08-09T10:15:55.215628Z"
    },
    "papermill": {
     "duration": 0.019419,
     "end_time": "2022-08-09T10:15:55.219249",
     "exception": false,
     "start_time": "2022-08-09T10:15:55.199830",
     "status": "completed"
    },
    "tags": []
   },
   "outputs": [
    {
     "data": {
      "text/plain": [
       "Hours     0\n",
       "Scores    0\n",
       "dtype: int64"
      ]
     },
     "execution_count": 7,
     "metadata": {},
     "output_type": "execute_result"
    }
   ],
   "source": [
    "raw_df.isna().sum()"
   ]
  },
  {
   "cell_type": "code",
   "execution_count": 8,
   "id": "7fe47550",
   "metadata": {
    "execution": {
     "iopub.execute_input": "2022-08-09T10:15:55.233267Z",
     "iopub.status.busy": "2022-08-09T10:15:55.232881Z",
     "iopub.status.idle": "2022-08-09T10:15:55.239319Z",
     "shell.execute_reply": "2022-08-09T10:15:55.238088Z"
    },
    "papermill": {
     "duration": 0.016685,
     "end_time": "2022-08-09T10:15:55.241926",
     "exception": false,
     "start_time": "2022-08-09T10:15:55.225241",
     "status": "completed"
    },
    "tags": []
   },
   "outputs": [
    {
     "data": {
      "text/plain": [
       "(25, 2)"
      ]
     },
     "execution_count": 8,
     "metadata": {},
     "output_type": "execute_result"
    }
   ],
   "source": [
    "raw_df.shape"
   ]
  },
  {
   "cell_type": "code",
   "execution_count": 9,
   "id": "761d5faa",
   "metadata": {
    "execution": {
     "iopub.execute_input": "2022-08-09T10:15:55.256374Z",
     "iopub.status.busy": "2022-08-09T10:15:55.255922Z",
     "iopub.status.idle": "2022-08-09T10:15:55.484298Z",
     "shell.execute_reply": "2022-08-09T10:15:55.482946Z"
    },
    "papermill": {
     "duration": 0.23898,
     "end_time": "2022-08-09T10:15:55.487254",
     "exception": false,
     "start_time": "2022-08-09T10:15:55.248274",
     "status": "completed"
    },
    "tags": []
   },
   "outputs": [],
   "source": [
    "from sklearn.model_selection import train_test_split"
   ]
  },
  {
   "cell_type": "code",
   "execution_count": 10,
   "id": "da995faf",
   "metadata": {
    "execution": {
     "iopub.execute_input": "2022-08-09T10:15:55.501605Z",
     "iopub.status.busy": "2022-08-09T10:15:55.501132Z",
     "iopub.status.idle": "2022-08-09T10:15:55.507627Z",
     "shell.execute_reply": "2022-08-09T10:15:55.506384Z"
    },
    "papermill": {
     "duration": 0.016455,
     "end_time": "2022-08-09T10:15:55.509887",
     "exception": false,
     "start_time": "2022-08-09T10:15:55.493432",
     "status": "completed"
    },
    "tags": []
   },
   "outputs": [],
   "source": [
    "x = raw_df.drop('Scores', axis = 1)\n",
    "y = raw_df['Scores']"
   ]
  },
  {
   "cell_type": "code",
   "execution_count": 11,
   "id": "d4e01c0d",
   "metadata": {
    "execution": {
     "iopub.execute_input": "2022-08-09T10:15:55.524189Z",
     "iopub.status.busy": "2022-08-09T10:15:55.523719Z",
     "iopub.status.idle": "2022-08-09T10:15:55.531067Z",
     "shell.execute_reply": "2022-08-09T10:15:55.529763Z"
    },
    "papermill": {
     "duration": 0.017654,
     "end_time": "2022-08-09T10:15:55.533634",
     "exception": false,
     "start_time": "2022-08-09T10:15:55.515980",
     "status": "completed"
    },
    "tags": []
   },
   "outputs": [],
   "source": [
    "x_train, x_test, y_train, y_test = train_test_split(x, y, test_size = 0.2)"
   ]
  },
  {
   "cell_type": "code",
   "execution_count": 12,
   "id": "52db690b",
   "metadata": {
    "execution": {
     "iopub.execute_input": "2022-08-09T10:15:55.548407Z",
     "iopub.status.busy": "2022-08-09T10:15:55.547489Z",
     "iopub.status.idle": "2022-08-09T10:15:55.637645Z",
     "shell.execute_reply": "2022-08-09T10:15:55.636375Z"
    },
    "papermill": {
     "duration": 0.100565,
     "end_time": "2022-08-09T10:15:55.640385",
     "exception": false,
     "start_time": "2022-08-09T10:15:55.539820",
     "status": "completed"
    },
    "tags": []
   },
   "outputs": [],
   "source": [
    "from sklearn.linear_model import LinearRegression"
   ]
  },
  {
   "cell_type": "code",
   "execution_count": 13,
   "id": "4ffd7b9b",
   "metadata": {
    "execution": {
     "iopub.execute_input": "2022-08-09T10:15:55.654302Z",
     "iopub.status.busy": "2022-08-09T10:15:55.653907Z",
     "iopub.status.idle": "2022-08-09T10:15:55.680107Z",
     "shell.execute_reply": "2022-08-09T10:15:55.679089Z"
    },
    "papermill": {
     "duration": 0.036215,
     "end_time": "2022-08-09T10:15:55.682637",
     "exception": false,
     "start_time": "2022-08-09T10:15:55.646422",
     "status": "completed"
    },
    "tags": []
   },
   "outputs": [
    {
     "data": {
      "text/plain": [
       "LinearRegression()"
      ]
     },
     "execution_count": 13,
     "metadata": {},
     "output_type": "execute_result"
    }
   ],
   "source": [
    "model = LinearRegression()\n",
    "model.fit(x_train, y_train)"
   ]
  },
  {
   "cell_type": "code",
   "execution_count": 14,
   "id": "0263494e",
   "metadata": {
    "execution": {
     "iopub.execute_input": "2022-08-09T10:15:55.696910Z",
     "iopub.status.busy": "2022-08-09T10:15:55.696507Z",
     "iopub.status.idle": "2022-08-09T10:15:55.706428Z",
     "shell.execute_reply": "2022-08-09T10:15:55.704907Z"
    },
    "papermill": {
     "duration": 0.019845,
     "end_time": "2022-08-09T10:15:55.708821",
     "exception": false,
     "start_time": "2022-08-09T10:15:55.688976",
     "status": "completed"
    },
    "tags": []
   },
   "outputs": [
    {
     "data": {
      "text/plain": [
       "0.9323551009333338"
      ]
     },
     "execution_count": 14,
     "metadata": {},
     "output_type": "execute_result"
    }
   ],
   "source": [
    "model.score(x_test, y_test)"
   ]
  },
  {
   "cell_type": "code",
   "execution_count": 15,
   "id": "c8d21eb2",
   "metadata": {
    "execution": {
     "iopub.execute_input": "2022-08-09T10:15:55.723602Z",
     "iopub.status.busy": "2022-08-09T10:15:55.722302Z",
     "iopub.status.idle": "2022-08-09T10:15:55.727238Z",
     "shell.execute_reply": "2022-08-09T10:15:55.726409Z"
    },
    "papermill": {
     "duration": 0.014617,
     "end_time": "2022-08-09T10:15:55.729570",
     "exception": false,
     "start_time": "2022-08-09T10:15:55.714953",
     "status": "completed"
    },
    "tags": []
   },
   "outputs": [],
   "source": [
    "x = model.coef_"
   ]
  },
  {
   "cell_type": "code",
   "execution_count": 16,
   "id": "c5a64eb8",
   "metadata": {
    "execution": {
     "iopub.execute_input": "2022-08-09T10:15:55.744043Z",
     "iopub.status.busy": "2022-08-09T10:15:55.742889Z",
     "iopub.status.idle": "2022-08-09T10:15:55.748070Z",
     "shell.execute_reply": "2022-08-09T10:15:55.747045Z"
    },
    "papermill": {
     "duration": 0.014931,
     "end_time": "2022-08-09T10:15:55.750651",
     "exception": false,
     "start_time": "2022-08-09T10:15:55.735720",
     "status": "completed"
    },
    "tags": []
   },
   "outputs": [],
   "source": [
    "y = model.intercept_"
   ]
  },
  {
   "cell_type": "code",
   "execution_count": 17,
   "id": "0e956fd9",
   "metadata": {
    "execution": {
     "iopub.execute_input": "2022-08-09T10:15:55.766128Z",
     "iopub.status.busy": "2022-08-09T10:15:55.765309Z",
     "iopub.status.idle": "2022-08-09T10:15:55.769447Z",
     "shell.execute_reply": "2022-08-09T10:15:55.768538Z"
    },
    "papermill": {
     "duration": 0.013923,
     "end_time": "2022-08-09T10:15:55.771668",
     "exception": false,
     "start_time": "2022-08-09T10:15:55.757745",
     "status": "completed"
    },
    "tags": []
   },
   "outputs": [],
   "source": [
    "#(9.89394524, 0) (0, 2.7611839568067893)"
   ]
  }
 ],
 "metadata": {
  "kernelspec": {
   "display_name": "Python 3",
   "language": "python",
   "name": "python3"
  },
  "language_info": {
   "codemirror_mode": {
    "name": "ipython",
    "version": 3
   },
   "file_extension": ".py",
   "mimetype": "text/x-python",
   "name": "python",
   "nbconvert_exporter": "python",
   "pygments_lexer": "ipython3",
   "version": "3.7.12"
  },
  "papermill": {
   "default_parameters": {},
   "duration": 13.638265,
   "end_time": "2022-08-09T10:15:56.601859",
   "environment_variables": {},
   "exception": null,
   "input_path": "__notebook__.ipynb",
   "output_path": "__notebook__.ipynb",
   "parameters": {},
   "start_time": "2022-08-09T10:15:42.963594",
   "version": "2.3.4"
  }
 },
 "nbformat": 4,
 "nbformat_minor": 5
}
