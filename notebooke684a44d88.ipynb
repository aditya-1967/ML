{
 "cells": [
  {
   "cell_type": "code",
   "execution_count": 1,
   "id": "69b1839a",
   "metadata": {
    "_cell_guid": "b1076dfc-b9ad-4769-8c92-a6c4dae69d19",
    "_uuid": "8f2839f25d086af736a60e9eeb907d3b93b6e0e5",
    "execution": {
     "iopub.execute_input": "2022-08-09T09:46:38.392213Z",
     "iopub.status.busy": "2022-08-09T09:46:38.391603Z",
     "iopub.status.idle": "2022-08-09T09:46:38.412981Z",
     "shell.execute_reply": "2022-08-09T09:46:38.411662Z"
    },
    "papermill": {
     "duration": 0.032847,
     "end_time": "2022-08-09T09:46:38.415890",
     "exception": false,
     "start_time": "2022-08-09T09:46:38.383043",
     "status": "completed"
    },
    "tags": []
   },
   "outputs": [
    {
     "name": "stdout",
     "output_type": "stream",
     "text": [
      "/kaggle/input/milkquality/milknew.csv\n"
     ]
    }
   ],
   "source": [
    "# This Python 3 environment comes with many helpful analytics libraries installed\n",
    "# It is defined by the kaggle/python Docker image: https://github.com/kaggle/docker-python\n",
    "# For example, here's several helpful packages to load\n",
    "\n",
    "import numpy as np # linear algebra\n",
    "import pandas as pd # data processing, CSV file I/O (e.g. pd.read_csv)\n",
    "\n",
    "# Input data files are available in the read-only \"../input/\" directory\n",
    "# For example, running this (by clicking run or pressing Shift+Enter) will list all files under the input directory\n",
    "\n",
    "import os\n",
    "for dirname, _, filenames in os.walk('/kaggle/input'):\n",
    "    for filename in filenames:\n",
    "        print(os.path.join(dirname, filename))\n",
    "\n",
    "# You can write up to 20GB to the current directory (/kaggle/working/) that gets preserved as output when you create a version using \"Save & Run All\" \n",
    "# You can also write temporary files to /kaggle/temp/, but they won't be saved outside of the current session"
   ]
  },
  {
   "cell_type": "code",
   "execution_count": 2,
   "id": "7e694a25",
   "metadata": {
    "execution": {
     "iopub.execute_input": "2022-08-09T09:46:38.428155Z",
     "iopub.status.busy": "2022-08-09T09:46:38.427760Z",
     "iopub.status.idle": "2022-08-09T09:46:38.445465Z",
     "shell.execute_reply": "2022-08-09T09:46:38.444450Z"
    },
    "papermill": {
     "duration": 0.026992,
     "end_time": "2022-08-09T09:46:38.448242",
     "exception": false,
     "start_time": "2022-08-09T09:46:38.421250",
     "status": "completed"
    },
    "tags": []
   },
   "outputs": [],
   "source": [
    "raw_df = pd.read_csv('/kaggle/input/milkquality/milknew.csv')"
   ]
  },
  {
   "cell_type": "code",
   "execution_count": 3,
   "id": "5ba2df8f",
   "metadata": {
    "execution": {
     "iopub.execute_input": "2022-08-09T09:46:38.460796Z",
     "iopub.status.busy": "2022-08-09T09:46:38.459963Z",
     "iopub.status.idle": "2022-08-09T09:46:38.484814Z",
     "shell.execute_reply": "2022-08-09T09:46:38.483471Z"
    },
    "papermill": {
     "duration": 0.034078,
     "end_time": "2022-08-09T09:46:38.487434",
     "exception": false,
     "start_time": "2022-08-09T09:46:38.453356",
     "status": "completed"
    },
    "tags": []
   },
   "outputs": [
    {
     "data": {
      "text/html": [
       "<div>\n",
       "<style scoped>\n",
       "    .dataframe tbody tr th:only-of-type {\n",
       "        vertical-align: middle;\n",
       "    }\n",
       "\n",
       "    .dataframe tbody tr th {\n",
       "        vertical-align: top;\n",
       "    }\n",
       "\n",
       "    .dataframe thead th {\n",
       "        text-align: right;\n",
       "    }\n",
       "</style>\n",
       "<table border=\"1\" class=\"dataframe\">\n",
       "  <thead>\n",
       "    <tr style=\"text-align: right;\">\n",
       "      <th></th>\n",
       "      <th>pH</th>\n",
       "      <th>Temprature</th>\n",
       "      <th>Taste</th>\n",
       "      <th>Odor</th>\n",
       "      <th>Fat</th>\n",
       "      <th>Turbidity</th>\n",
       "      <th>Colour</th>\n",
       "      <th>Grade</th>\n",
       "    </tr>\n",
       "  </thead>\n",
       "  <tbody>\n",
       "    <tr>\n",
       "      <th>0</th>\n",
       "      <td>6.6</td>\n",
       "      <td>35</td>\n",
       "      <td>1</td>\n",
       "      <td>0</td>\n",
       "      <td>1</td>\n",
       "      <td>0</td>\n",
       "      <td>254</td>\n",
       "      <td>high</td>\n",
       "    </tr>\n",
       "    <tr>\n",
       "      <th>1</th>\n",
       "      <td>6.6</td>\n",
       "      <td>36</td>\n",
       "      <td>0</td>\n",
       "      <td>1</td>\n",
       "      <td>0</td>\n",
       "      <td>1</td>\n",
       "      <td>253</td>\n",
       "      <td>high</td>\n",
       "    </tr>\n",
       "    <tr>\n",
       "      <th>2</th>\n",
       "      <td>8.5</td>\n",
       "      <td>70</td>\n",
       "      <td>1</td>\n",
       "      <td>1</td>\n",
       "      <td>1</td>\n",
       "      <td>1</td>\n",
       "      <td>246</td>\n",
       "      <td>low</td>\n",
       "    </tr>\n",
       "    <tr>\n",
       "      <th>3</th>\n",
       "      <td>9.5</td>\n",
       "      <td>34</td>\n",
       "      <td>1</td>\n",
       "      <td>1</td>\n",
       "      <td>0</td>\n",
       "      <td>1</td>\n",
       "      <td>255</td>\n",
       "      <td>low</td>\n",
       "    </tr>\n",
       "    <tr>\n",
       "      <th>4</th>\n",
       "      <td>6.6</td>\n",
       "      <td>37</td>\n",
       "      <td>0</td>\n",
       "      <td>0</td>\n",
       "      <td>0</td>\n",
       "      <td>0</td>\n",
       "      <td>255</td>\n",
       "      <td>medium</td>\n",
       "    </tr>\n",
       "  </tbody>\n",
       "</table>\n",
       "</div>"
      ],
      "text/plain": [
       "    pH  Temprature  Taste  Odor  Fat   Turbidity  Colour   Grade\n",
       "0  6.6          35      1     0     1          0     254    high\n",
       "1  6.6          36      0     1     0          1     253    high\n",
       "2  8.5          70      1     1     1          1     246     low\n",
       "3  9.5          34      1     1     0          1     255     low\n",
       "4  6.6          37      0     0     0          0     255  medium"
      ]
     },
     "execution_count": 3,
     "metadata": {},
     "output_type": "execute_result"
    }
   ],
   "source": [
    "raw_df.head()"
   ]
  },
  {
   "cell_type": "code",
   "execution_count": 4,
   "id": "743fcf6d",
   "metadata": {
    "execution": {
     "iopub.execute_input": "2022-08-09T09:46:38.501708Z",
     "iopub.status.busy": "2022-08-09T09:46:38.501000Z",
     "iopub.status.idle": "2022-08-09T09:46:38.514784Z",
     "shell.execute_reply": "2022-08-09T09:46:38.513484Z"
    },
    "papermill": {
     "duration": 0.024364,
     "end_time": "2022-08-09T09:46:38.517382",
     "exception": false,
     "start_time": "2022-08-09T09:46:38.493018",
     "status": "completed"
    },
    "tags": []
   },
   "outputs": [
    {
     "data": {
      "text/plain": [
       "array(['high', 'low', 'medium'], dtype=object)"
      ]
     },
     "execution_count": 4,
     "metadata": {},
     "output_type": "execute_result"
    }
   ],
   "source": [
    "raw_df.Grade.unique()"
   ]
  },
  {
   "cell_type": "code",
   "execution_count": 5,
   "id": "9fd57953",
   "metadata": {
    "execution": {
     "iopub.execute_input": "2022-08-09T09:46:38.531210Z",
     "iopub.status.busy": "2022-08-09T09:46:38.530796Z",
     "iopub.status.idle": "2022-08-09T09:46:38.540020Z",
     "shell.execute_reply": "2022-08-09T09:46:38.538783Z"
    },
    "papermill": {
     "duration": 0.019589,
     "end_time": "2022-08-09T09:46:38.542673",
     "exception": false,
     "start_time": "2022-08-09T09:46:38.523084",
     "status": "completed"
    },
    "tags": []
   },
   "outputs": [],
   "source": [
    "raw_df['Grade'] = raw_df['Grade'].map({'high': 1, 'medium' : 0.5, 'low' : 0})"
   ]
  },
  {
   "cell_type": "code",
   "execution_count": 6,
   "id": "c72ff584",
   "metadata": {
    "execution": {
     "iopub.execute_input": "2022-08-09T09:46:38.556590Z",
     "iopub.status.busy": "2022-08-09T09:46:38.555400Z",
     "iopub.status.idle": "2022-08-09T09:46:38.562870Z",
     "shell.execute_reply": "2022-08-09T09:46:38.561865Z"
    },
    "papermill": {
     "duration": 0.017216,
     "end_time": "2022-08-09T09:46:38.565761",
     "exception": false,
     "start_time": "2022-08-09T09:46:38.548545",
     "status": "completed"
    },
    "tags": []
   },
   "outputs": [],
   "source": [
    "raw_df.head()\n",
    "raw_df['Temprature'] = raw_df['Temprature'] / max(raw_df['Temprature'])\n",
    "raw_df['Colour'] = raw_df['Colour'] / max(raw_df['Colour'])"
   ]
  },
  {
   "cell_type": "code",
   "execution_count": 7,
   "id": "48919dd9",
   "metadata": {
    "execution": {
     "iopub.execute_input": "2022-08-09T09:46:38.580085Z",
     "iopub.status.busy": "2022-08-09T09:46:38.578346Z",
     "iopub.status.idle": "2022-08-09T09:46:38.589602Z",
     "shell.execute_reply": "2022-08-09T09:46:38.588523Z"
    },
    "papermill": {
     "duration": 0.020875,
     "end_time": "2022-08-09T09:46:38.592116",
     "exception": false,
     "start_time": "2022-08-09T09:46:38.571241",
     "status": "completed"
    },
    "tags": []
   },
   "outputs": [
    {
     "data": {
      "text/plain": [
       "pH            0\n",
       "Temprature    0\n",
       "Taste         0\n",
       "Odor          0\n",
       "Fat           0\n",
       "Turbidity     0\n",
       "Colour        0\n",
       "Grade         0\n",
       "dtype: int64"
      ]
     },
     "execution_count": 7,
     "metadata": {},
     "output_type": "execute_result"
    }
   ],
   "source": [
    "raw_df.isna().sum()"
   ]
  },
  {
   "cell_type": "code",
   "execution_count": 8,
   "id": "660f81a8",
   "metadata": {
    "execution": {
     "iopub.execute_input": "2022-08-09T09:46:38.606230Z",
     "iopub.status.busy": "2022-08-09T09:46:38.605643Z",
     "iopub.status.idle": "2022-08-09T09:46:39.806179Z",
     "shell.execute_reply": "2022-08-09T09:46:39.804728Z"
    },
    "papermill": {
     "duration": 1.210877,
     "end_time": "2022-08-09T09:46:39.809047",
     "exception": false,
     "start_time": "2022-08-09T09:46:38.598170",
     "status": "completed"
    },
    "tags": []
   },
   "outputs": [],
   "source": [
    "from sklearn.model_selection import train_test_split"
   ]
  },
  {
   "cell_type": "code",
   "execution_count": 9,
   "id": "06ed8b91",
   "metadata": {
    "execution": {
     "iopub.execute_input": "2022-08-09T09:46:39.821577Z",
     "iopub.status.busy": "2022-08-09T09:46:39.821154Z",
     "iopub.status.idle": "2022-08-09T09:46:39.831833Z",
     "shell.execute_reply": "2022-08-09T09:46:39.830037Z"
    },
    "papermill": {
     "duration": 0.020541,
     "end_time": "2022-08-09T09:46:39.835058",
     "exception": false,
     "start_time": "2022-08-09T09:46:39.814517",
     "status": "completed"
    },
    "tags": []
   },
   "outputs": [],
   "source": [
    "x = raw_df.drop('Grade', axis = 1)\n",
    "y = raw_df['Grade']"
   ]
  },
  {
   "cell_type": "code",
   "execution_count": 10,
   "id": "41e402db",
   "metadata": {
    "execution": {
     "iopub.execute_input": "2022-08-09T09:46:39.848293Z",
     "iopub.status.busy": "2022-08-09T09:46:39.847885Z",
     "iopub.status.idle": "2022-08-09T09:46:39.855892Z",
     "shell.execute_reply": "2022-08-09T09:46:39.854959Z"
    },
    "papermill": {
     "duration": 0.017442,
     "end_time": "2022-08-09T09:46:39.858272",
     "exception": false,
     "start_time": "2022-08-09T09:46:39.840830",
     "status": "completed"
    },
    "tags": []
   },
   "outputs": [],
   "source": [
    "x_train, x_test, y_train, y_test = train_test_split(x, y, test_size = 0.2)"
   ]
  },
  {
   "cell_type": "code",
   "execution_count": 11,
   "id": "61937fd5",
   "metadata": {
    "execution": {
     "iopub.execute_input": "2022-08-09T09:46:39.871834Z",
     "iopub.status.busy": "2022-08-09T09:46:39.871102Z",
     "iopub.status.idle": "2022-08-09T09:46:39.962828Z",
     "shell.execute_reply": "2022-08-09T09:46:39.961620Z"
    },
    "papermill": {
     "duration": 0.10206,
     "end_time": "2022-08-09T09:46:39.965946",
     "exception": false,
     "start_time": "2022-08-09T09:46:39.863886",
     "status": "completed"
    },
    "tags": []
   },
   "outputs": [],
   "source": [
    "from sklearn.linear_model import LinearRegression"
   ]
  },
  {
   "cell_type": "code",
   "execution_count": 12,
   "id": "72d2d622",
   "metadata": {
    "execution": {
     "iopub.execute_input": "2022-08-09T09:46:39.979444Z",
     "iopub.status.busy": "2022-08-09T09:46:39.978782Z",
     "iopub.status.idle": "2022-08-09T09:46:39.984338Z",
     "shell.execute_reply": "2022-08-09T09:46:39.983081Z"
    },
    "papermill": {
     "duration": 0.015502,
     "end_time": "2022-08-09T09:46:39.987240",
     "exception": false,
     "start_time": "2022-08-09T09:46:39.971738",
     "status": "completed"
    },
    "tags": []
   },
   "outputs": [],
   "source": [
    "model = LinearRegression()"
   ]
  },
  {
   "cell_type": "code",
   "execution_count": 13,
   "id": "6f1732b8",
   "metadata": {
    "execution": {
     "iopub.execute_input": "2022-08-09T09:46:40.001389Z",
     "iopub.status.busy": "2022-08-09T09:46:40.000776Z",
     "iopub.status.idle": "2022-08-09T09:46:40.027615Z",
     "shell.execute_reply": "2022-08-09T09:46:40.026117Z"
    },
    "papermill": {
     "duration": 0.037105,
     "end_time": "2022-08-09T09:46:40.030389",
     "exception": false,
     "start_time": "2022-08-09T09:46:39.993284",
     "status": "completed"
    },
    "tags": []
   },
   "outputs": [
    {
     "data": {
      "text/plain": [
       "LinearRegression()"
      ]
     },
     "execution_count": 13,
     "metadata": {},
     "output_type": "execute_result"
    }
   ],
   "source": [
    "model.fit(x_train, y_train)"
   ]
  },
  {
   "cell_type": "code",
   "execution_count": 14,
   "id": "b71f8f23",
   "metadata": {
    "execution": {
     "iopub.execute_input": "2022-08-09T09:46:40.043565Z",
     "iopub.status.busy": "2022-08-09T09:46:40.042891Z",
     "iopub.status.idle": "2022-08-09T09:46:40.054012Z",
     "shell.execute_reply": "2022-08-09T09:46:40.052814Z"
    },
    "papermill": {
     "duration": 0.020525,
     "end_time": "2022-08-09T09:46:40.056379",
     "exception": false,
     "start_time": "2022-08-09T09:46:40.035854",
     "status": "completed"
    },
    "tags": []
   },
   "outputs": [
    {
     "data": {
      "text/plain": [
       "0.26624727851462304"
      ]
     },
     "execution_count": 14,
     "metadata": {},
     "output_type": "execute_result"
    }
   ],
   "source": [
    "model.score(x_test, y_test)"
   ]
  },
  {
   "cell_type": "code",
   "execution_count": 15,
   "id": "8722cdfe",
   "metadata": {
    "execution": {
     "iopub.execute_input": "2022-08-09T09:46:40.070198Z",
     "iopub.status.busy": "2022-08-09T09:46:40.069572Z",
     "iopub.status.idle": "2022-08-09T09:46:40.270635Z",
     "shell.execute_reply": "2022-08-09T09:46:40.269753Z"
    },
    "papermill": {
     "duration": 0.21122,
     "end_time": "2022-08-09T09:46:40.273173",
     "exception": false,
     "start_time": "2022-08-09T09:46:40.061953",
     "status": "completed"
    },
    "tags": []
   },
   "outputs": [],
   "source": [
    "import seaborn as sns"
   ]
  },
  {
   "cell_type": "code",
   "execution_count": 16,
   "id": "4de6b60a",
   "metadata": {
    "execution": {
     "iopub.execute_input": "2022-08-09T09:46:40.285935Z",
     "iopub.status.busy": "2022-08-09T09:46:40.285534Z",
     "iopub.status.idle": "2022-08-09T09:46:40.616792Z",
     "shell.execute_reply": "2022-08-09T09:46:40.615537Z"
    },
    "papermill": {
     "duration": 0.340718,
     "end_time": "2022-08-09T09:46:40.619499",
     "exception": false,
     "start_time": "2022-08-09T09:46:40.278781",
     "status": "completed"
    },
    "tags": []
   },
   "outputs": [
    {
     "data": {
      "text/plain": [
       "<AxesSubplot:>"
      ]
     },
     "execution_count": 16,
     "metadata": {},
     "output_type": "execute_result"
    },
    {
     "data": {
      "image/png": "[encoded data removed]",
      "text/plain": [
       "<Figure size 432x288 with 2 Axes>"
      ]
     },
     "metadata": {
      "needs_background": "light"
     },
     "output_type": "display_data"
    }
   ],
   "source": [
    "sns.heatmap(raw_df.corr())"
   ]
  },
  {
   "cell_type": "code",
   "execution_count": 17,
   "id": "1dd49bcb",
   "metadata": {
    "execution": {
     "iopub.execute_input": "2022-08-09T09:46:40.634204Z",
     "iopub.status.busy": "2022-08-09T09:46:40.633048Z",
     "iopub.status.idle": "2022-08-09T09:46:40.645651Z",
     "shell.execute_reply": "2022-08-09T09:46:40.643896Z"
    },
    "papermill": {
     "duration": 0.023174,
     "end_time": "2022-08-09T09:46:40.648888",
     "exception": false,
     "start_time": "2022-08-09T09:46:40.625714",
     "status": "completed"
    },
    "tags": []
   },
   "outputs": [
    {
     "data": {
      "text/plain": [
       "0.27061502247544855"
      ]
     },
     "execution_count": 17,
     "metadata": {},
     "output_type": "execute_result"
    }
   ],
   "source": [
    "model.score(x_train, y_train)"
   ]
  },
  {
   "cell_type": "markdown",
   "id": "271ba3e0",
   "metadata": {
    "papermill": {
     "duration": 0.006702,
     "end_time": "2022-08-09T09:46:40.661892",
     "exception": false,
     "start_time": "2022-08-09T09:46:40.655190",
     "status": "completed"
    },
    "tags": []
   },
   "source": [
    "**:,(**"
   ]
  }
 ],
 "metadata": {
  "kernelspec": {
   "display_name": "Python 3",
   "language": "python",
   "name": "python3"
  },
  "language_info": {
   "codemirror_mode": {
    "name": "ipython",
    "version": 3
   },
   "file_extension": ".py",
   "mimetype": "text/x-python",
   "name": "python",
   "nbconvert_exporter": "python",
   "pygments_lexer": "ipython3",
   "version": "3.7.12"
  },
  "papermill": {
   "default_parameters": {},
   "duration": 13.017117,
   "end_time": "2022-08-09T09:46:41.491975",
   "environment_variables": {},
   "exception": null,
   "input_path": "__notebook__.ipynb",
   "output_path": "__notebook__.ipynb",
   "parameters": {},
   "start_time": "2022-08-09T09:46:28.474858",
   "version": "2.3.4"
  }
 },
 "nbformat": 4,
 "nbformat_minor": 5
}
